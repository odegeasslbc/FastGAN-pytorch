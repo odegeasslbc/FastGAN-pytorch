{
 "cells": [
  {
   "cell_type": "code",
   "execution_count": 1,
   "metadata": {},
   "outputs": [],
   "source": [
    "import tensorflow as tf"
   ]
  },
  {
   "cell_type": "code",
   "execution_count": 2,
   "metadata": {},
   "outputs": [],
   "source": [
    "import models\n",
    "import os\n",
    "import importlib"
   ]
  },
  {
   "cell_type": "code",
   "execution_count": 3,
   "metadata": {},
   "outputs": [],
   "source": [
    "noise = tf.random.normal((1, 128))"
   ]
  },
  {
   "cell_type": "code",
   "execution_count": 32,
   "metadata": {},
   "outputs": [
    {
     "data": {
      "text/plain": [
       "TensorShape([1, 256, 256, 3])"
      ]
     },
     "execution_count": 32,
     "metadata": {},
     "output_type": "execute_result"
    }
   ],
   "source": [
    "importlib.reload(models)\n",
    "m = models.Generator(ngf=8, nz=256, nc=3, im_size=256);\n",
    "m(noise)[0].shape"
   ]
  },
  {
   "cell_type": "code",
   "execution_count": 34,
   "metadata": {},
   "outputs": [
    {
     "name": "stdout",
     "output_type": "stream",
     "text": [
      "Model: \"Generator/ngf=8/nz=256/nc=3/imsize=256\"\n",
      "_________________________________________________________________\n",
      " Layer (type)                Output Shape              Param #   \n",
      "=================================================================\n",
      " init_layer_12 (InitLayer)   multiple                  525440    \n",
      "                                                                 \n",
      " sequential_223 (Sequential)  (1, 8, 8, 64)            222466    \n",
      "                                                                 \n",
      " sequential_224 (Sequential)  (1, 16, 16, 32)          37184     \n",
      "                                                                 \n",
      " sequential_225 (Sequential)  (1, 32, 32, 16)          14146     \n",
      "                                                                 \n",
      " sequential_226 (Sequential)  (1, 64, 64, 16)          4768      \n",
      "                                                                 \n",
      " sequential_227 (Sequential)  (1, 128, 128, 8)         3618      \n",
      "                                                                 \n",
      " se_block_39 (SEBlock)       multiple                  33056     \n",
      "                                                                 \n",
      " se_block_40 (SEBlock)       multiple                  8272      \n",
      "                                                                 \n",
      " spectral_normalization_273   multiple                 27        \n",
      " (SpectralNormalization)                                         \n",
      "                                                                 \n",
      " spectral_normalization_274   multiple                 111       \n",
      " (SpectralNormalization)                                         \n",
      "                                                                 \n",
      " sequential_230 (Sequential)  (1, 256, 256, 4)         616       \n",
      "                                                                 \n",
      " se_block_41 (SEBlock)       multiple                  2072      \n",
      "                                                                 \n",
      "=================================================================\n",
      "Total params: 851,776\n",
      "Trainable params: 849,706\n",
      "Non-trainable params: 2,070\n",
      "_________________________________________________________________\n"
     ]
    }
   ],
   "source": [
    "m.summary()"
   ]
  },
  {
   "cell_type": "code",
   "execution_count": 14,
   "metadata": {},
   "outputs": [],
   "source": [
    "m.save_weights('c')"
   ]
  },
  {
   "cell_type": "code",
   "execution_count": 17,
   "metadata": {},
   "outputs": [
    {
     "data": {
      "text/plain": [
       "TensorShape([50])"
      ]
     },
     "execution_count": 17,
     "metadata": {},
     "output_type": "execute_result"
    }
   ],
   "source": [
    "importlib.reload(models)\n",
    "d = models.Discriminator(ndf=8, nc=3, im_size=256)\n",
    "d(m(noise), 'fake').shape"
   ]
  },
  {
   "cell_type": "code",
   "execution_count": 91,
   "metadata": {},
   "outputs": [
    {
     "data": {
      "text/plain": [
       "tf.float32"
      ]
     },
     "execution_count": 91,
     "metadata": {},
     "output_type": "execute_result"
    }
   ],
   "source": [
    "noise.dtype"
   ]
  },
  {
   "cell_type": "code",
   "execution_count": 12,
   "metadata": {},
   "outputs": [
    {
     "data": {
      "text/plain": [
       "True"
      ]
     },
     "execution_count": 12,
     "metadata": {},
     "output_type": "execute_result"
    }
   ],
   "source": [
    "bool(2)"
   ]
  },
  {
   "cell_type": "code",
   "execution_count": 16,
   "metadata": {},
   "outputs": [
    {
     "data": {
      "text/plain": [
       "{4: 1024,\n",
       " 8: 512,\n",
       " 16: 256,\n",
       " 32: 128,\n",
       " 64: 128,\n",
       " 128: 64,\n",
       " 256: 32,\n",
       " 512: 16,\n",
       " 1024: 8}"
      ]
     },
     "execution_count": 16,
     "metadata": {},
     "output_type": "execute_result"
    }
   ],
   "source": [
    "NFC_MULTI = {\n",
    "            4: 16,\n",
    "            8: 8,\n",
    "            16: 4,\n",
    "            32: 2,\n",
    "            64: 2,\n",
    "            128: 1,\n",
    "            256: 0.5,\n",
    "            512: 0.25,\n",
    "            1024: 0.125,\n",
    "        }\n",
    "{k: int(v*64) for k,v in NFC_MULTI.items()}"
   ]
  },
  {
   "cell_type": "code",
   "execution_count": 35,
   "metadata": {},
   "outputs": [],
   "source": [
    "bruh = tf.ones((1,2,3))"
   ]
  },
  {
   "cell_type": "code",
   "execution_count": 40,
   "metadata": {},
   "outputs": [
    {
     "data": {
      "text/plain": [
       "1.0"
      ]
     },
     "execution_count": 40,
     "metadata": {},
     "output_type": "execute_result"
    }
   ],
   "source": [
    "tf.keras.backend.eval(tf.math.reduce_mean(bruh))"
   ]
  },
  {
   "cell_type": "code",
   "execution_count": null,
   "metadata": {},
   "outputs": [],
   "source": []
  }
 ],
 "metadata": {
  "interpreter": {
   "hash": "85659c03b87290d723c51fa8eb216492cb108509f035ae88d24be9bfa2293c73"
  },
  "kernelspec": {
   "display_name": "Python 3.9.12 ('block_dreams')",
   "language": "python",
   "name": "python3"
  },
  "language_info": {
   "codemirror_mode": {
    "name": "ipython",
    "version": 3
   },
   "file_extension": ".py",
   "mimetype": "text/x-python",
   "name": "python",
   "nbconvert_exporter": "python",
   "pygments_lexer": "ipython3",
   "version": "3.9.12"
  },
  "orig_nbformat": 4
 },
 "nbformat": 4,
 "nbformat_minor": 2
}
